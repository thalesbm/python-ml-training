{
 "cells": [
  {
   "cell_type": "code",
   "execution_count": 1,
   "id": "ea6f4a12",
   "metadata": {},
   "outputs": [
    {
     "data": {
      "text/html": [
       "<div>\n",
       "<style scoped>\n",
       "    .dataframe tbody tr th:only-of-type {\n",
       "        vertical-align: middle;\n",
       "    }\n",
       "\n",
       "    .dataframe tbody tr th {\n",
       "        vertical-align: top;\n",
       "    }\n",
       "\n",
       "    .dataframe thead th {\n",
       "        text-align: right;\n",
       "    }\n",
       "</style>\n",
       "<table border=\"1\" class=\"dataframe\">\n",
       "  <thead>\n",
       "    <tr style=\"text-align: right;\">\n",
       "      <th></th>\n",
       "      <th>age</th>\n",
       "      <th>workclass</th>\n",
       "      <th>education-num</th>\n",
       "      <th>race</th>\n",
       "      <th>sex</th>\n",
       "      <th>native-country</th>\n",
       "      <th>salary</th>\n",
       "    </tr>\n",
       "  </thead>\n",
       "  <tbody>\n",
       "    <tr>\n",
       "      <th>0</th>\n",
       "      <td>39</td>\n",
       "      <td>State-gov</td>\n",
       "      <td>13</td>\n",
       "      <td>White</td>\n",
       "      <td>Male</td>\n",
       "      <td>United-States</td>\n",
       "      <td>&lt;=50K</td>\n",
       "    </tr>\n",
       "    <tr>\n",
       "      <th>1</th>\n",
       "      <td>50</td>\n",
       "      <td>Self-emp-not-inc</td>\n",
       "      <td>13</td>\n",
       "      <td>White</td>\n",
       "      <td>Male</td>\n",
       "      <td>United-States</td>\n",
       "      <td>&lt;=50K</td>\n",
       "    </tr>\n",
       "    <tr>\n",
       "      <th>2</th>\n",
       "      <td>38</td>\n",
       "      <td>Private</td>\n",
       "      <td>9</td>\n",
       "      <td>White</td>\n",
       "      <td>Male</td>\n",
       "      <td>United-States</td>\n",
       "      <td>&lt;=50K</td>\n",
       "    </tr>\n",
       "    <tr>\n",
       "      <th>3</th>\n",
       "      <td>53</td>\n",
       "      <td>Private</td>\n",
       "      <td>7</td>\n",
       "      <td>Black</td>\n",
       "      <td>Male</td>\n",
       "      <td>United-States</td>\n",
       "      <td>&lt;=50K</td>\n",
       "    </tr>\n",
       "    <tr>\n",
       "      <th>4</th>\n",
       "      <td>28</td>\n",
       "      <td>Private</td>\n",
       "      <td>13</td>\n",
       "      <td>Black</td>\n",
       "      <td>Female</td>\n",
       "      <td>Cuba</td>\n",
       "      <td>&lt;=50K</td>\n",
       "    </tr>\n",
       "  </tbody>\n",
       "</table>\n",
       "</div>"
      ],
      "text/plain": [
       "   age          workclass  education-num    race      sex  native-country  \\\n",
       "0   39          State-gov             13   White     Male   United-States   \n",
       "1   50   Self-emp-not-inc             13   White     Male   United-States   \n",
       "2   38            Private              9   White     Male   United-States   \n",
       "3   53            Private              7   Black     Male   United-States   \n",
       "4   28            Private             13   Black   Female            Cuba   \n",
       "\n",
       "   salary  \n",
       "0   <=50K  \n",
       "1   <=50K  \n",
       "2   <=50K  \n",
       "3   <=50K  \n",
       "4   <=50K  "
      ]
     },
     "execution_count": 1,
     "metadata": {},
     "output_type": "execute_result"
    }
   ],
   "source": [
    "import numpy as np\n",
    "import pandas as pd\n",
    "\n",
    "path = \"../files/adult_outcome/salary.csv\"\n",
    "dataset: pd.DataFrame = pd.read_csv(path)\n",
    "\n",
    "df = dataset[[\"age\", \"workclass\", \"education-num\", \"race\", \"sex\", \"native-country\", \"salary\"]]\n",
    "\n",
    "df.head(5)"
   ]
  },
  {
   "cell_type": "code",
   "execution_count": null,
   "id": "0bdca9aa",
   "metadata": {},
   "outputs": [],
   "source": [
    "########################################\n",
    "\n",
    "freq = df[\"workclass\"].value_counts(normalize=True).sort_values(ascending=False)\n",
    "\n",
    "raras = freq[freq < 0.01].index\n",
    "df[\"workclass\"] = df[\"workclass\"].where(~df[\"workclass\"].isin(raras), \"others\")\n",
    "\n",
    "df[\"workclass\"] = (df[\"workclass\"]\n",
    "           .astype(str).str.strip().str.lower()\n",
    "           .replace({\"others\": \"others\", \"?\": \"others\"})\n",
    "           .replace({\"local-gov\": \"gov\", \"state-gov\": \"gov\", \"federal-gov\": \"gov\"})\n",
    "           .replace({\"self-emp-not-inc\": \"self-employed\", \"self-emp-inc\": \"self-employed\"}))\n",
    "\n",
    "########################################\n",
    "\n",
    "freq = df[\"age\"].value_counts(normalize=True).sort_values(ascending=False)\n",
    "\n",
    "raras = freq[freq < 0.001].index\n",
    "df[\"age\"] = df[\"age\"].where(~df[\"age\"].isin(raras), 60)\n",
    "\n",
    "########################################\n",
    "\n",
    "df[\"race\"] = (df[\"race\"]\n",
    "           .astype(str).str.strip().str.lower()\n",
    "           .replace({\"asian-pac-islander\": \"others\", \"amer-indian-eskimo\": \"others\", \"other\": \"others\"}))\n",
    "\n",
    "########################################\n",
    "\n",
    "df[\"native-country\"] = (df[\"native-country\"]\n",
    "           .astype(str).str.strip().str.lower()\n",
    "           .replace({\"mexico\": \"others\", \"?\": \"others\", \"philippines\": \"others\", \"china\": \"others\", \"japan\": \"others\", \"india\": \"others\", \"germany\": \"others\", \n",
    "                    \"canada\": \"others\", \"puerto-rico\": \"others\", \"el-salvador\": \"others\", \"cuba\": \"others\", \"england\": \"others\", \"jamaica\": \"others\", \"south\": \"others\", \n",
    "                    \"italy\": \"others\", \"dominican-republic\": \"others\", \"vietnam\": \"others\", \"guatemala\": \"others\", \"poland\": \"others\", \"columbia\": \"others\", \"taiwan\": \"others\", \n",
    "                    \"haiti\": \"others\", \"iran\": \"others\", \"holand-netherlands\": \"others\", \"scotland\": \"others\", \"hungary\": \"others\", \"honduras\": \"others\", \n",
    "                    \"yugoslavia\": \"others\", \"laos\": \"others\", \"thailand\": \"others\", \"cambodia\": \"others\", \"trinadad&tobago\": \"others\", \"hong\": \"others\", \"ireland\": \"others\", \"ecuador\": \"others\",\n",
    "                    \"greece\": \"others\", \"france\": \"others\", \"peru\": \"others\", \"nicaragua\": \"others\", \"outlying-us(guam-usvi-etc)\": \"others\",}))\n",
    "\n"
   ]
  },
  {
   "cell_type": "code",
   "execution_count": null,
   "id": "d32c3af3",
   "metadata": {},
   "outputs": [
    {
     "data": {
      "text/plain": [
       "salary\n",
       "<=50K    24720\n",
       ">50K      7841\n",
       "Name: count, dtype: int64"
      ]
     },
     "execution_count": 41,
     "metadata": {},
     "output_type": "execute_result"
    }
   ],
   "source": [
    "\n"
   ]
  }
 ],
 "metadata": {
  "kernelspec": {
   "display_name": ".venv",
   "language": "python",
   "name": "python3"
  },
  "language_info": {
   "codemirror_mode": {
    "name": "ipython",
    "version": 3
   },
   "file_extension": ".py",
   "mimetype": "text/x-python",
   "name": "python",
   "nbconvert_exporter": "python",
   "pygments_lexer": "ipython3",
   "version": "3.12.11"
  }
 },
 "nbformat": 4,
 "nbformat_minor": 5
}
